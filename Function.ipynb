{
 "cells": [
  {
   "cell_type": "markdown",
   "id": "4cf1ff97",
   "metadata": {},
   "source": [
    "# Table of Contents\n",
    "* [Function](#fn)\n",
    "    - [Built-in](#blt)\n",
    "    - [User-Defined function](#udf)\n",
    "        - [Void and Non-Void function](#vnv)\n",
    "        - [Global and Local variable](#glbl)\n",
    "        - [Default parameter](#dflt)\n",
    "        - [* args and ** kwargs](#args)\n",
    "        - [Lambda Function](#lambda)\n",
    "- [Higher Order Functions](#hof)\n",
    "    - [Map Function](#map)\n",
    "    - [Filter Function](#filter)\n",
    "    - [Reduce Function](#reduce)\n",
    "- [Modules / Libaray](#mod)\n"
   ]
  },
  {
   "cell_type": "markdown",
   "id": "a691f431",
   "metadata": {},
   "source": [
    "# Function <a class = 'anchor' id = 'fn'></a>\n",
    "A Function is a block of code, which runs sequentially from top to bottom by a python interpreter, only when it is called. Functions can be categorized into three parts:\n",
    "\n",
    "1. Built-in\n",
    "2. User-defined function (Custom Function)\n",
    "3. Modules/library\n",
    "\n",
    "## Built-in Function <a class = 'anchor' id = 'blt'></a>\n",
    "Those functions, which are already defined in the python ecosystem is called built-in function.  \n",
    "Eg: `print(), input(), int(), type(), max(), min() etc.`\n",
    "\n",
    "## User-defined function (Custom Function) <a class = 'anchor' id = 'udf'></a>\n",
    "- User-defined functions are functions that we use to organize our code in the body of a policy.\n",
    "- Once you define a function, you can call it in the same way as the built-in functions.\n",
    "- User-defined function avoids repetition of the code.  \n",
    "Syntax :\n",
    "\n",
    "```\n",
    "\n",
    " def function_name(parameter1, parameter2....):\n",
    "        ......................................\n",
    "        .........some statement...............\n",
    "        ....return/print()....................\n",
    "```\n",
    "      "
   ]
  },
  {
   "cell_type": "code",
   "execution_count": null,
   "id": "81e3c039",
   "metadata": {},
   "outputs": [],
   "source": [
    "'''\n",
    "# Abhaya - First create a function which do not return any value neither take any \n",
    "# arguments liks\n",
    "\n",
    "def fun():\n",
    "    print(\"hello\")\n",
    "    \n",
    "fun()\n",
    "\n",
    "# then create a function take taked one argument and do not return any value\n",
    "\n",
    "def fun(a):\n",
    "    print(\"a is \", a)\n",
    "    \n",
    "fun(10)\n",
    "\n",
    "# then create a function that returns a value and do not take any argument\n",
    "\n",
    "go in incremental manner\n",
    "\n",
    "'''"
   ]
  },
  {
   "cell_type": "code",
   "execution_count": null,
   "id": "eb7eff9a",
   "metadata": {},
   "outputs": [],
   "source": [
    "# simplest way to create a function\n",
    "def function():\n",
    "    pass  \n",
    "\n",
    "# calling a function\n",
    "function()"
   ]
  },
  {
   "cell_type": "markdown",
   "id": "5d7fd0e4",
   "metadata": {},
   "source": [
    "- Above function is without any feature and it doesn't return any values.\n",
    "-  A function can also defined without parameter."
   ]
  },
  {
   "cell_type": "code",
   "execution_count": null,
   "id": "e04b4777",
   "metadata": {},
   "outputs": [],
   "source": [
    "# function without parameter\n",
    "def fun():\n",
    "    print(\"Hello!\")\n",
    "\n",
    "# calling function\n",
    "fun()"
   ]
  },
  {
   "cell_type": "markdown",
   "id": "73e8a04d",
   "metadata": {},
   "source": [
    "- The above function gives outputs but it doesn't has any parameter.\n",
    "- Now let's defined a functon which has both parameter and gives outputs also."
   ]
  },
  {
   "cell_type": "code",
   "execution_count": null,
   "id": "b168c251",
   "metadata": {},
   "outputs": [],
   "source": [
    "# function with parameter and output\n",
    "def greet(name):\n",
    "    print(f\"Hello {name}!\")\n",
    "\n",
    "# calling function\n",
    "greet('Geoffery')"
   ]
  },
  {
   "cell_type": "code",
   "execution_count": null,
   "id": "ca245a64",
   "metadata": {},
   "outputs": [],
   "source": [
    "greet(\"Udippta\")"
   ]
  },
  {
   "cell_type": "code",
   "execution_count": null,
   "id": "1fedc7f8",
   "metadata": {},
   "outputs": [],
   "source": [
    "# defining a function\n",
    "\n",
    "def add(n1,n2):    # here n1 and n2 are called parameters of the function\n",
    "    z = n1 + n2 \n",
    "    return z"
   ]
  },
  {
   "cell_type": "code",
   "execution_count": null,
   "id": "e9728c8c",
   "metadata": {},
   "outputs": [],
   "source": [
    "# calling a function\n",
    "add(7,5)"
   ]
  },
  {
   "cell_type": "markdown",
   "id": "56a2befd",
   "metadata": {},
   "source": [
    "### Void function and Non-void function <a class = 'anchor' id = 'vnv'></a>\n",
    "A user-defined function is two types:\n",
    "- **void function**: which returns **None** value.\n",
    "- **non-void function**: which returns **some value**.\n",
    "### Void function"
   ]
  },
  {
   "cell_type": "code",
   "execution_count": null,
   "id": "d5ebb904",
   "metadata": {},
   "outputs": [],
   "source": [
    "def add1(n1,n2):\n",
    "    x = n1 + n2\n",
    "    print(x)   # it would return nothing\n",
    "    "
   ]
  },
  {
   "cell_type": "code",
   "execution_count": null,
   "id": "a3c3f034",
   "metadata": {},
   "outputs": [],
   "source": [
    "# calling a function\n",
    "x1 = add1(5,7)\n",
    "print(x1)"
   ]
  },
  {
   "cell_type": "code",
   "execution_count": null,
   "id": "6b837364",
   "metadata": {},
   "outputs": [],
   "source": [
    "type(x1)  # returns None value"
   ]
  },
  {
   "cell_type": "markdown",
   "id": "addfaa23",
   "metadata": {},
   "source": [
    "### Non-void function"
   ]
  },
  {
   "cell_type": "code",
   "execution_count": null,
   "id": "e16dd534",
   "metadata": {},
   "outputs": [],
   "source": [
    "def add2(n1,n2):\n",
    "    x = n1 + n2\n",
    "    return x     # it will return some value"
   ]
  },
  {
   "cell_type": "code",
   "execution_count": null,
   "id": "4d182496",
   "metadata": {},
   "outputs": [],
   "source": [
    "# calling a function\n",
    "x2 = add2(5,7)\n",
    "print(x2)"
   ]
  },
  {
   "cell_type": "code",
   "execution_count": null,
   "id": "c344b655",
   "metadata": {},
   "outputs": [],
   "source": [
    "type(x2)"
   ]
  },
  {
   "attachments": {
    "image.png": {
     "image/png": "[encoded data removed]"
    }
   },
   "cell_type": "markdown",
   "id": "81e0b94b",
   "metadata": {},
   "source": [
    "### Global and Local Variable <a class = 'anchor' id = 'glbl'></a>\n",
    "- Those variables which are defined all over the program is called **global variable**.\n",
    "- Those variables which are only defined in a function is called **local variable**. Its means we cannot access out of the functional block.\n",
    "![image.png](attachment:image.png)"
   ]
  },
  {
   "cell_type": "code",
   "execution_count": null,
   "id": "6a30c5cd",
   "metadata": {},
   "outputs": [],
   "source": [
    "name = 'John'   # global varible\n",
    "\n",
    "def greet(name):\n",
    "    x = 'How are you?'    # local varible\n",
    "    g = 'Hello' + ' ' + x\n",
    "    return g\n",
    "\n",
    "# calling the function\n",
    "greet(name)"
   ]
  },
  {
   "cell_type": "code",
   "execution_count": null,
   "id": "7e0ae146",
   "metadata": {},
   "outputs": [],
   "source": [
    "# calling global varible\n",
    "name"
   ]
  },
  {
   "cell_type": "code",
   "execution_count": null,
   "id": "aaa77551",
   "metadata": {},
   "outputs": [],
   "source": [
    "x"
   ]
  },
  {
   "cell_type": "markdown",
   "id": "1bdcf999",
   "metadata": {},
   "source": [
    "### Is there any way to local variable to global?\n",
    ".........  \n",
    ".........  \n",
    "......... Yes, we can.."
   ]
  },
  {
   "cell_type": "code",
   "execution_count": null,
   "id": "d5de6a32",
   "metadata": {},
   "outputs": [],
   "source": [
    "def greet1(name):\n",
    "    global x1\n",
    "    x1 = 'How are you?'    # local varible\n",
    "    g = 'Hello' + ' ' + x1\n",
    "    return g\n",
    "\n",
    "# calling the function\n",
    "greet1(name)"
   ]
  },
  {
   "cell_type": "code",
   "execution_count": null,
   "id": "d1e90983",
   "metadata": {},
   "outputs": [],
   "source": [
    "# now we can variable inside the functon\n",
    "x1"
   ]
  },
  {
   "cell_type": "markdown",
   "id": "46c79411",
   "metadata": {},
   "source": [
    "### Default parameter <a class = 'class' id = 'dflt'></a>\n",
    "Those arguments that take default values if no explicit values are passed to these arguments from the function call."
   ]
  },
  {
   "cell_type": "code",
   "execution_count": null,
   "id": "3e2e0a02",
   "metadata": {},
   "outputs": [],
   "source": [
    "def add3(n1,n2,n3 = 5):\n",
    "    x = n1 + n2 + n3\n",
    "    return x"
   ]
  },
  {
   "cell_type": "code",
   "execution_count": null,
   "id": "75a49e10",
   "metadata": {},
   "outputs": [],
   "source": [
    "# calling function\n",
    "# Here it 3rd parameter optional, if we don't \n",
    "add3(3,4)"
   ]
  },
  {
   "cell_type": "code",
   "execution_count": null,
   "id": "d3499152",
   "metadata": {},
   "outputs": [],
   "source": [
    "# We can also pass the 3rd parameter and it replaces the default value\n",
    "add3(3,4,10)"
   ]
  },
  {
   "cell_type": "markdown",
   "id": "73506875",
   "metadata": {},
   "source": [
    "**A positional parameter that follows a default parameter**"
   ]
  },
  {
   "cell_type": "code",
   "execution_count": null,
   "id": "5e5bfacd",
   "metadata": {},
   "outputs": [],
   "source": [
    "def add3(n1,n2=6,n3):  # this is not allowed in python\n",
    "    x = n1 + n2 + n3\n",
    "    return x     "
   ]
  },
  {
   "cell_type": "code",
   "execution_count": null,
   "id": "34d838b8",
   "metadata": {},
   "outputs": [],
   "source": [
    "# Abhaya - comments are wrong here...below is allowed"
   ]
  },
  {
   "cell_type": "code",
   "execution_count": null,
   "id": "897cb333",
   "metadata": {},
   "outputs": [],
   "source": [
    "def add3(n1,n3,n2=6):  \n",
    "    x = n1 + n2 + n3\n",
    "    return x     \n",
    "\n",
    "# calling function\n",
    "add3(8,3)   # here n1 = 8, n2 = 6 (default value), and n3 = 3"
   ]
  },
  {
   "cell_type": "markdown",
   "id": "b2398a85",
   "metadata": {},
   "source": [
    "#### Practice\n",
    "### Q1. Write a user-defined function named `SI(p,r,t)`, that can calculate the simple interest for given values of principle, rate, and time in years. If rate `r = 7.5%`"
   ]
  },
  {
   "cell_type": "code",
   "execution_count": null,
   "id": "83e8e798",
   "metadata": {},
   "outputs": [],
   "source": [
    "def SI(p,t, r = 7.5):\n",
    "    # your code\n",
    "    \n",
    "    \n",
    "    "
   ]
  },
  {
   "cell_type": "markdown",
   "id": "afbee21b",
   "metadata": {},
   "source": [
    "<details>\n",
    "    <summary>Solution</summary>\n",
    "\n",
    "```python\n",
    "   def SI(p,t, r = 7.5):\n",
    "    s = p * r * t / 100\n",
    "    return s \n",
    "```"
   ]
  },
  {
   "cell_type": "code",
   "execution_count": null,
   "id": "e080680c",
   "metadata": {},
   "outputs": [],
   "source": [
    "# calling function\n",
    "SI(1000,4)"
   ]
  },
  {
   "cell_type": "code",
   "execution_count": null,
   "id": "9549f098",
   "metadata": {},
   "outputs": [],
   "source": []
  },
  {
   "cell_type": "markdown",
   "id": "4326c135",
   "metadata": {},
   "source": [
    "### Q2. Define a UDF named **`CI(p,r,t)`** that can find compund interest of given values of P,R, and T."
   ]
  },
  {
   "cell_type": "code",
   "execution_count": null,
   "id": "f33c33d1",
   "metadata": {},
   "outputs": [],
   "source": [
    "def CI(p,r,t):\n",
    "# your code...\n",
    "\n",
    "\n"
   ]
  },
  {
   "cell_type": "code",
   "execution_count": null,
   "id": "03dd4f8e",
   "metadata": {},
   "outputs": [],
   "source": []
  },
  {
   "cell_type": "markdown",
   "id": "2e64d2b8",
   "metadata": {},
   "source": [
    "<details>\n",
    "    <summary>Solution</summary>\n",
    "    \n",
    "```python\n",
    "def CI(p,r,t):\n",
    "    # formula of compund interest\n",
    "    C = p * ((1 + r/100)**t) - p\n",
    "    return C\n",
    "    \n",
    "```"
   ]
  },
  {
   "cell_type": "code",
   "execution_count": null,
   "id": "069d9cf5",
   "metadata": {},
   "outputs": [],
   "source": []
  },
  {
   "cell_type": "markdown",
   "id": "47f035c3",
   "metadata": {},
   "source": [
    "### Q3. Write a function named `Qroots(a,b,c)` to calculate the roots of the quadratic equation `a x^2 + b x + c = 0`."
   ]
  },
  {
   "cell_type": "code",
   "execution_count": null,
   "id": "44ab13c7",
   "metadata": {},
   "outputs": [],
   "source": [
    "def Qroots(a,b,c):\n",
    "    # your code\n",
    "    \n",
    "    \n"
   ]
  },
  {
   "cell_type": "markdown",
   "id": "9b4a3271",
   "metadata": {},
   "source": [
    "<details>\n",
    "    <summary>Solution</summary>\n",
    "    \n",
    "```python\n",
    "    def Qroots(a,b,c):\n",
    "    # your code\n",
    "    x1 = (-b +(b**2 - 4*a*c)**0.5)/(2*a)\n",
    "    x2 = (-b - (b**2 - 4*a*c)**0.5)/(2*a)\n",
    "    print(\"x1 = \",x1)\n",
    "    print(\"x2 = \",x2)\n",
    "    \n",
    "```\n",
    "\n",
    "</details>"
   ]
  },
  {
   "cell_type": "code",
   "execution_count": null,
   "id": "dadac272",
   "metadata": {},
   "outputs": [],
   "source": [
    "# Qroots(1,-5,6)"
   ]
  },
  {
   "cell_type": "markdown",
   "id": "4784334d",
   "metadata": {},
   "source": [
    "### * args and ** kwargs  <a class= 'anchor' id  = 'args'></a>\n",
    "` *args` and `**kwargs` are special keywords allowing functions to take variable-length arguments.  \n",
    "We can pass a variable number of arguments to a function using special symbols. There are two special symbols:\n",
    "\n",
    "- *args (Non Keyword Arguments)\n",
    "- ** kwargs (Keyword Arguments)  \n",
    "We use * args and ** kwargs as an argument when we are unsure about the number of arguments to pass in the functions.  \n",
    "` * args`"
   ]
  },
  {
   "cell_type": "code",
   "execution_count": null,
   "id": "e2ba2189",
   "metadata": {},
   "outputs": [],
   "source": [
    "# * agrs\n",
    "def fun1(*data):\n",
    "    print(data)\n",
    "# calling fun1()\n",
    "fun1(3)   # displayed as a tuple"
   ]
  },
  {
   "cell_type": "code",
   "execution_count": null,
   "id": "872a32ff",
   "metadata": {},
   "outputs": [],
   "source": [
    "# two parameters\n",
    "fun1(5,6)"
   ]
  },
  {
   "cell_type": "code",
   "execution_count": null,
   "id": "4f20fe9d",
   "metadata": {},
   "outputs": [],
   "source": [
    "fun1(5,6,7,9,2)"
   ]
  },
  {
   "cell_type": "code",
   "execution_count": null,
   "id": "61f2d040",
   "metadata": {},
   "outputs": [],
   "source": [
    "# add1()\n",
    "\n",
    "def add1(*numbers):\n",
    "    sm = 0\n",
    "    for x in numbers:\n",
    "        sm = sm + x\n",
    "    return sm\n",
    "\n",
    "# calling function a giving only 1 number\n",
    "add1(5)"
   ]
  },
  {
   "cell_type": "code",
   "execution_count": null,
   "id": "0a32873a",
   "metadata": {},
   "outputs": [],
   "source": [
    "# two arguments\n",
    "add1(5,6)"
   ]
  },
  {
   "cell_type": "code",
   "execution_count": null,
   "id": "07afbdd9",
   "metadata": {},
   "outputs": [],
   "source": [
    "# three arguments\n",
    "add1(5,6,10)"
   ]
  },
  {
   "cell_type": "markdown",
   "id": "70165bdc",
   "metadata": {},
   "source": [
    "In the above program, we used `*num` as a parameter which allows us to pass the variable length argument list to the `add()` function.  \n",
    "** kwargs passes variable number of keyword arguments dictionary to function on which operation of a dictionary can be performed.  \n",
    "`**kwargs`"
   ]
  },
  {
   "cell_type": "code",
   "execution_count": null,
   "id": "9e7edeed",
   "metadata": {},
   "outputs": [],
   "source": [
    "def fun2(**data):\n",
    "    print(data)"
   ]
  },
  {
   "cell_type": "code",
   "execution_count": null,
   "id": "0f0fa748",
   "metadata": {},
   "outputs": [],
   "source": [
    "fun2(x = 5, y = 6,z = 8)"
   ]
  },
  {
   "cell_type": "code",
   "execution_count": null,
   "id": "46980da1",
   "metadata": {},
   "outputs": [],
   "source": [
    "fun2(x = 7)"
   ]
  },
  {
   "cell_type": "code",
   "execution_count": null,
   "id": "f4535599",
   "metadata": {},
   "outputs": [],
   "source": [
    "# add() function\n",
    "def add2(**data):\n",
    "    sm =0\n",
    "    for i in data:\n",
    "        sm  = sm  + data[i]\n",
    "    return sm"
   ]
  },
  {
   "cell_type": "code",
   "execution_count": null,
   "id": "6b039120",
   "metadata": {},
   "outputs": [],
   "source": [
    "add2(x = 5, y= 7, z = 4)"
   ]
  },
  {
   "cell_type": "code",
   "execution_count": null,
   "id": "06f30de3",
   "metadata": {},
   "outputs": [],
   "source": [
    "# only two parameters\n",
    "add2(n1 = 18,n2 = 7)"
   ]
  },
  {
   "cell_type": "markdown",
   "id": "7c3a7070",
   "metadata": {},
   "source": [
    "-  `*args` passes variable number of non-keyworded arguments and on which operation of the **tuple** can be performed.\n",
    "- `** kwargs` passes variable number of keyword arguments dictionary to function on which operation of a **dictionary** can be performed."
   ]
  },
  {
   "cell_type": "code",
   "execution_count": null,
   "id": "b158ea0f",
   "metadata": {},
   "outputs": [],
   "source": []
  },
  {
   "cell_type": "code",
   "execution_count": null,
   "id": "057872da",
   "metadata": {},
   "outputs": [],
   "source": []
  },
  {
   "cell_type": "markdown",
   "id": "823c8268",
   "metadata": {},
   "source": [
    "### Q4. Write a function named  `SOF(n)` to find the sum of the factors of a given number.\n",
    "`input1 = 6\n",
    "output1 = 1 + 2 + 3 = 6`  \n",
    "`input2 = 8\n",
    "optput2 = 1 + 2 + 4 = 7`"
   ]
  },
  {
   "cell_type": "code",
   "execution_count": null,
   "id": "2e0b32e1",
   "metadata": {},
   "outputs": [],
   "source": [
    "def SOF(n):\n",
    "    # your code\n",
    "\n",
    "    \n",
    "    \n",
    "    "
   ]
  },
  {
   "cell_type": "markdown",
   "id": "1232c00e",
   "metadata": {},
   "source": [
    "<details>\n",
    "    <summary> Click here for Solution</summary>\n",
    "\n",
    "```python\n",
    "\n",
    "def SOF(n):\n",
    "    # your code\n",
    "    sof = 0\n",
    "    for num in range(1,n):\n",
    "        if n % num == 0:\n",
    "            sof = sof + num  # adding sum of the factor\n",
    "    return sof\n",
    "    \n",
    "    \n",
    "```\n",
    "    \n",
    "</details>\n"
   ]
  },
  {
   "cell_type": "code",
   "execution_count": null,
   "id": "4e5c6743",
   "metadata": {},
   "outputs": [],
   "source": [
    "SOF(6)"
   ]
  },
  {
   "cell_type": "code",
   "execution_count": null,
   "id": "9d444f0f",
   "metadata": {},
   "outputs": [],
   "source": [
    "SOF(8)"
   ]
  },
  {
   "cell_type": "markdown",
   "id": "8ac76e47",
   "metadata": {},
   "source": [
    "### Q5. Write a function named  `Nvowel(text)` to find the total number of vowels for a given text(string).\n",
    "` input = Geoffrey Hinton is the godfather of artificial intelligence.\n",
    "output = 21`"
   ]
  },
  {
   "cell_type": "code",
   "execution_count": null,
   "id": "ca9fa749",
   "metadata": {},
   "outputs": [],
   "source": [
    "def Nvowel(text):\n",
    "    # your code\n",
    "\n",
    "\n",
    "\n",
    "    \n",
    "    "
   ]
  },
  {
   "cell_type": "markdown",
   "id": "67fedc7e",
   "metadata": {},
   "source": [
    "<details>\n",
    "    <summary> Click here for Solution</summary>\n",
    "\n",
    "```python\n",
    "\n",
    "def Nvowel(text):\n",
    "    # your code\n",
    "    count_vowels = 0\n",
    "    for char in text:\n",
    "        if char in 'aeiouAEIOU':\n",
    "            count_vowels = count_vowels + 1\n",
    "    print(\"The total number of Vowels in the text :\",count_vowels)\n",
    "    \n",
    "```\n",
    "    \n",
    "</details>\n"
   ]
  },
  {
   "cell_type": "code",
   "execution_count": null,
   "id": "35f1a0c4",
   "metadata": {},
   "outputs": [],
   "source": []
  },
  {
   "cell_type": "code",
   "execution_count": null,
   "id": "ed2c89c4",
   "metadata": {},
   "outputs": [],
   "source": []
  },
  {
   "cell_type": "markdown",
   "id": "eac15b70",
   "metadata": {},
   "source": [
    "### Q6. Write a function named  `Nconsonant(text)` to find the total number of consonant for a given text(string).\n",
    "``` \n",
    "input = \"Geoffrey Hinton is the godfather of artificial intelligence\".\n",
    "output = 21\n",
    "\n",
    "```"
   ]
  },
  {
   "cell_type": "code",
   "execution_count": 3,
   "id": "f9c7feb6",
   "metadata": {},
   "outputs": [],
   "source": [
    "# defining a function\n",
    "def Nconsonant(text) : \n",
    "    # your code\n",
    "    \n",
    "    "
   ]
  },
  {
   "cell_type": "markdown",
   "id": "92dffb1c",
   "metadata": {},
   "source": [
    "<details>\n",
    "    <summary>Solutions</summary>\n",
    "\n",
    "```python\n",
    "    def Nconsonant(text):\n",
    "    count = 0\n",
    "    for char in inp:\n",
    "        if char.lower() in 'bcdfghjklmnpqrstwxyz':\n",
    "            count = count + 1  # count += 1\n",
    "    return count\n",
    "```"
   ]
  },
  {
   "cell_type": "code",
   "execution_count": 6,
   "id": "44ae6b80",
   "metadata": {},
   "outputs": [
    {
     "data": {
      "text/plain": [
       "31"
      ]
     },
     "execution_count": 6,
     "metadata": {},
     "output_type": "execute_result"
    }
   ],
   "source": [
    "# expected output\n",
    "text = \"Geoffrey Hinton is the godfather of artificial intelligence\"\n",
    "Nconsonant(inp)"
   ]
  },
  {
   "cell_type": "code",
   "execution_count": null,
   "id": "d22472bc",
   "metadata": {},
   "outputs": [],
   "source": []
  },
  {
   "cell_type": "markdown",
   "id": "6bb7cfce",
   "metadata": {},
   "source": [
    "### Lambda Function <a class = 'anchor' id = lambda ></a>\n",
    "- In Python a lambda function is a small anonymous function that can be defined without a name. \n",
    "- It is commonly used when a small function is needed for a short period and doesn't require a full function definition. \n",
    "```\n",
    "# defining a lmabda function\n",
    "fun = lambda para1,para2.. : expressions\n",
    "# calling a lmabda function\n",
    "fun(para1,para2,...)\n",
    "```"
   ]
  },
  {
   "cell_type": "code",
   "execution_count": 8,
   "id": "99889126",
   "metadata": {},
   "outputs": [
    {
     "data": {
      "text/plain": [
       "9"
      ]
     },
     "execution_count": 8,
     "metadata": {},
     "output_type": "execute_result"
    }
   ],
   "source": [
    "# define a simplest function that can add 3 numbers\n",
    "\n",
    "y = lambda n1,n2,n3 : n1 + n2 + n3\n",
    "\n",
    "# calling this lambda function\n",
    "y(2,3,4)\n"
   ]
  },
  {
   "cell_type": "markdown",
   "id": "4b88e671",
   "metadata": {},
   "source": [
    "- We can also set default parameter within lambda function.\n",
    "- Let's create a lambda function that can calculate simple interest."
   ]
  },
  {
   "cell_type": "code",
   "execution_count": 9,
   "id": "1b5d4441",
   "metadata": {},
   "outputs": [],
   "source": [
    "# defininf  a lmbda function\n",
    "SI = lambda p,t , r = 7.5 : p*r*t/100 "
   ]
  },
  {
   "cell_type": "code",
   "execution_count": 10,
   "id": "13dfc7ea",
   "metadata": {},
   "outputs": [
    {
     "data": {
      "text/plain": [
       "300.0"
      ]
     },
     "execution_count": 10,
     "metadata": {},
     "output_type": "execute_result"
    }
   ],
   "source": [
    "# calling this lambda function\n",
    "SI(1000,4)"
   ]
  },
  {
   "cell_type": "code",
   "execution_count": 11,
   "id": "c0bc7c11",
   "metadata": {},
   "outputs": [
    {
     "data": {
      "text/plain": [
       "100.0"
      ]
     },
     "execution_count": 11,
     "metadata": {},
     "output_type": "execute_result"
    }
   ],
   "source": [
    "# \n",
    "SI(1000,5,2)"
   ]
  },
  {
   "cell_type": "code",
   "execution_count": null,
   "id": "9ce1018a",
   "metadata": {},
   "outputs": [],
   "source": []
  },
  {
   "cell_type": "markdown",
   "id": "15d0c64b",
   "metadata": {},
   "source": [
    "### Your trun...\n",
    "### Q7. Create a lambda function that can calculate Compound Interest for given values p,r, and t."
   ]
  },
  {
   "cell_type": "code",
   "execution_count": 15,
   "id": "cd23d98c",
   "metadata": {},
   "outputs": [],
   "source": [
    "# your code\n",
    "\n"
   ]
  },
  {
   "cell_type": "code",
   "execution_count": 14,
   "id": "7bd04426",
   "metadata": {},
   "outputs": [
    {
     "data": {
      "text/plain": [
       "335.4691406249999"
      ]
     },
     "execution_count": 14,
     "metadata": {},
     "output_type": "execute_result"
    }
   ],
   "source": [
    "CI(1000,7.5,4)"
   ]
  },
  {
   "cell_type": "markdown",
   "id": "f205d14d",
   "metadata": {},
   "source": [
    "<details>\n",
    "    <summary> Solution </summary>\n",
    "\n",
    "```python\n",
    "    \n",
    "    CI = lambda p, r, t : p * ((1 + r/100)**t) - p\n",
    "```"
   ]
  },
  {
   "cell_type": "code",
   "execution_count": null,
   "id": "dd8e1519",
   "metadata": {},
   "outputs": [],
   "source": []
  },
  {
   "cell_type": "markdown",
   "id": "b13b6be8",
   "metadata": {},
   "source": [
    "## Higher Order Functions < a class = 'anchor' "
   ]
  },
  {
   "cell_type": "code",
   "execution_count": null,
   "id": "5fa6c7ed",
   "metadata": {},
   "outputs": [],
   "source": []
  },
  {
   "cell_type": "code",
   "execution_count": null,
   "id": "86a6f8ac",
   "metadata": {},
   "outputs": [],
   "source": []
  },
  {
   "cell_type": "code",
   "execution_count": null,
   "id": "c6c171e5",
   "metadata": {},
   "outputs": [],
   "source": []
  },
  {
   "cell_type": "code",
   "execution_count": null,
   "id": "f5017cd2",
   "metadata": {},
   "outputs": [],
   "source": []
  },
  {
   "cell_type": "code",
   "execution_count": null,
   "id": "558f7cd9",
   "metadata": {},
   "outputs": [],
   "source": []
  },
  {
   "cell_type": "code",
   "execution_count": null,
   "id": "41ca6260",
   "metadata": {},
   "outputs": [],
   "source": []
  },
  {
   "cell_type": "code",
   "execution_count": null,
   "id": "ecc1277e",
   "metadata": {},
   "outputs": [],
   "source": []
  },
  {
   "cell_type": "markdown",
   "id": "44798d9a",
   "metadata": {},
   "source": [
    "### Modules / Libaray <a class = 'anchor' id = 'mod'></a>\n",
    "A module is a **Python file** containing Python definitions and statements. A module can define **functions, classes, and variables**.  \n",
    "To use the module in the program, we need to import the module. There are mainly two ways to import a module in the Python program:\n",
    "-  `import` : It is the simplest and most common way to use modules on our code. \n",
    "- `from` :  It is used to call a specific function from the module."
   ]
  },
  {
   "cell_type": "code",
   "execution_count": null,
   "id": "aaef7d3a",
   "metadata": {},
   "outputs": [],
   "source": [
    "# import \n",
    "import math   # import a \"math\" module\n",
    "math.sqrt(16)  # calling a sqrt function from the math module"
   ]
  },
  {
   "cell_type": "code",
   "execution_count": null,
   "id": "8a48f12e",
   "metadata": {},
   "outputs": [],
   "source": [
    "# we can aslo rename the module name by using \"as\" statement\n",
    "import math as m\n",
    "m.sqrt(16)"
   ]
  },
  {
   "cell_type": "code",
   "execution_count": null,
   "id": "5b5ebbcd",
   "metadata": {},
   "outputs": [],
   "source": [
    "# from \n",
    "from math import sqrt  # calling only sqrt function from math module\n",
    "sqrt(16)"
   ]
  },
  {
   "cell_type": "code",
   "execution_count": null,
   "id": "7d3f5f1e",
   "metadata": {},
   "outputs": [],
   "source": [
    "# \"*\" is used to call all the function (class or varibles also)\n",
    "from math import *\n",
    "# calling factorial from math module\n",
    "factorial(5)"
   ]
  },
  {
   "cell_type": "code",
   "execution_count": null,
   "id": "9a1afdc3",
   "metadata": {},
   "outputs": [],
   "source": [
    "# calling log function from math module\n",
    "log10(100)"
   ]
  },
  {
   "cell_type": "markdown",
   "id": "9ac300dc",
   "metadata": {},
   "source": [
    "### How to know, how many and what are functions, classes, and variables (data) inside a module?\n",
    "1. `help(module_name)`\n",
    "2. `dir(module_name)`\n",
    "3. `Module documentation (google search)`"
   ]
  },
  {
   "cell_type": "code",
   "execution_count": null,
   "id": "75ef4aa6",
   "metadata": {},
   "outputs": [],
   "source": [
    "help(math)"
   ]
  },
  {
   "cell_type": "code",
   "execution_count": null,
   "id": "ea6261f7",
   "metadata": {},
   "outputs": [],
   "source": [
    "dir(math)"
   ]
  },
  {
   "cell_type": "markdown",
   "id": "72ab4a0a",
   "metadata": {},
   "source": [
    "### Example : Rock- Paper -Scissor Game"
   ]
  },
  {
   "cell_type": "code",
   "execution_count": null,
   "id": "f2b9c64a",
   "metadata": {},
   "outputs": [],
   "source": [
    "# rock, paper , and scissor\n",
    "import random as rd   # calling \"random\" module\n",
    "\n",
    "options = ['Rock', 'Paper','Scissor']\n",
    "\n",
    "player1 = rd.choice(options)\n",
    "player2 = rd.choice(options)\n",
    "if player1 == 'Rock' and player2 == 'Scissor':\n",
    "    print('Player1 Won')\n",
    "elif player1 == 'Paper' and player2 == 'Rock':\n",
    "    print('Player1 Won')\n",
    "elif player1 == 'Scissor' and player2 == 'Paper':\n",
    "    print('Player1 Won')\n",
    "elif player1 == player2:\n",
    "    print('Match tied')\n",
    "else:\n",
    "    print('Player2 Won')\n",
    "print('Player1 --->', player1)\n",
    "print('Player2 --->',player2)"
   ]
  },
  {
   "cell_type": "code",
   "execution_count": null,
   "id": "3dfbcadd",
   "metadata": {},
   "outputs": [],
   "source": [
    "# Abhaya - give example of call by refence and call by value\n",
    "# explain lambda function   # -> done\n",
    "# explain map reduce and filter function"
   ]
  }
 ],
 "metadata": {
  "kernelspec": {
   "display_name": "Python 3 (ipykernel)",
   "language": "python",
   "name": "python3"
  },
  "language_info": {
   "codemirror_mode": {
    "name": "ipython",
    "version": 3
   },
   "file_extension": ".py",
   "mimetype": "text/x-python",
   "name": "python",
   "nbconvert_exporter": "python",
   "pygments_lexer": "ipython3",
   "version": "3.9.13"
  }
 },
 "nbformat": 4,
 "nbformat_minor": 5
}
